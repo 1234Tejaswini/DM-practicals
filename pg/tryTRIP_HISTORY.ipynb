{
 "cells": [
  {
   "cell_type": "code",
   "execution_count": 1,
   "metadata": {},
   "outputs": [],
   "source": [
    "import pandas as pd\n",
    "import numpy as np\n"
   ]
  },
  {
   "cell_type": "code",
   "execution_count": 2,
   "metadata": {},
   "outputs": [],
   "source": [
    "df=pd.read_csv('/home/rohit/Downloads/hing/2011-Q1-cabi-trip-history-data_2011-Q1-cabi-trip-history-data.csv')"
   ]
  },
  {
   "cell_type": "code",
   "execution_count": 3,
   "metadata": {},
   "outputs": [
    {
     "data": {
      "text/html": [
       "<div>\n",
       "<style scoped>\n",
       "    .dataframe tbody tr th:only-of-type {\n",
       "        vertical-align: middle;\n",
       "    }\n",
       "\n",
       "    .dataframe tbody tr th {\n",
       "        vertical-align: top;\n",
       "    }\n",
       "\n",
       "    .dataframe thead th {\n",
       "        text-align: right;\n",
       "    }\n",
       "</style>\n",
       "<table border=\"1\" class=\"dataframe\">\n",
       "  <thead>\n",
       "    <tr style=\"text-align: right;\">\n",
       "      <th></th>\n",
       "      <th>Duration</th>\n",
       "      <th>Start date</th>\n",
       "      <th>End date</th>\n",
       "      <th>Start station</th>\n",
       "      <th>End station</th>\n",
       "      <th>Bike#</th>\n",
       "      <th>Member Type</th>\n",
       "    </tr>\n",
       "  </thead>\n",
       "  <tbody>\n",
       "    <tr>\n",
       "      <th>0</th>\n",
       "      <td>0h 1min. 50sec.</td>\n",
       "      <td>3/31/2011 23:58</td>\n",
       "      <td>4/1/2011 0:00</td>\n",
       "      <td>14th &amp; Harvard St NW (31105)</td>\n",
       "      <td>16th &amp; Harvard St NW (31103)</td>\n",
       "      <td>W00749</td>\n",
       "      <td>Registered</td>\n",
       "    </tr>\n",
       "    <tr>\n",
       "      <th>1</th>\n",
       "      <td>0h 16min. 21sec.</td>\n",
       "      <td>3/31/2011 23:52</td>\n",
       "      <td>4/1/2011 0:08</td>\n",
       "      <td>19th &amp; L St NW (31224)</td>\n",
       "      <td>7th &amp; Water St SW / SW Waterfront (31609)</td>\n",
       "      <td>W01048</td>\n",
       "      <td>Casual</td>\n",
       "    </tr>\n",
       "    <tr>\n",
       "      <th>2</th>\n",
       "      <td>0h 3min. 19sec.</td>\n",
       "      <td>3/31/2011 23:47</td>\n",
       "      <td>3/31/2011 23:50</td>\n",
       "      <td>Lincoln Park / 13th &amp; East Capitol St NE  (31619)</td>\n",
       "      <td>13th &amp; H St NE (31611)</td>\n",
       "      <td>W00340</td>\n",
       "      <td>Registered</td>\n",
       "    </tr>\n",
       "    <tr>\n",
       "      <th>3</th>\n",
       "      <td>0h 5min. 44sec.</td>\n",
       "      <td>3/31/2011 23:45</td>\n",
       "      <td>3/31/2011 23:50</td>\n",
       "      <td>14th &amp; R St NW (31202)</td>\n",
       "      <td>Massachusetts Ave &amp; Dupont Circle NW (31200)</td>\n",
       "      <td>W00981</td>\n",
       "      <td>Registered</td>\n",
       "    </tr>\n",
       "    <tr>\n",
       "      <th>4</th>\n",
       "      <td>0h 8min. 42sec.</td>\n",
       "      <td>3/31/2011 23:34</td>\n",
       "      <td>3/31/2011 23:43</td>\n",
       "      <td>Park Rd &amp; Holmead Pl NW (31602)</td>\n",
       "      <td>15th &amp; P St NW (31201)</td>\n",
       "      <td>W00449</td>\n",
       "      <td>Registered</td>\n",
       "    </tr>\n",
       "  </tbody>\n",
       "</table>\n",
       "</div>"
      ],
      "text/plain": [
       "           Duration       Start date         End date  \\\n",
       "0   0h 1min. 50sec.  3/31/2011 23:58    4/1/2011 0:00   \n",
       "1  0h 16min. 21sec.  3/31/2011 23:52    4/1/2011 0:08   \n",
       "2   0h 3min. 19sec.  3/31/2011 23:47  3/31/2011 23:50   \n",
       "3   0h 5min. 44sec.  3/31/2011 23:45  3/31/2011 23:50   \n",
       "4   0h 8min. 42sec.  3/31/2011 23:34  3/31/2011 23:43   \n",
       "\n",
       "                                       Start station  \\\n",
       "0                       14th & Harvard St NW (31105)   \n",
       "1                             19th & L St NW (31224)   \n",
       "2  Lincoln Park / 13th & East Capitol St NE  (31619)   \n",
       "3                             14th & R St NW (31202)   \n",
       "4                    Park Rd & Holmead Pl NW (31602)   \n",
       "\n",
       "                                    End station   Bike# Member Type  \n",
       "0                  16th & Harvard St NW (31103)  W00749  Registered  \n",
       "1     7th & Water St SW / SW Waterfront (31609)  W01048      Casual  \n",
       "2                        13th & H St NE (31611)  W00340  Registered  \n",
       "3  Massachusetts Ave & Dupont Circle NW (31200)  W00981  Registered  \n",
       "4                        15th & P St NW (31201)  W00449  Registered  "
      ]
     },
     "execution_count": 3,
     "metadata": {},
     "output_type": "execute_result"
    }
   ],
   "source": [
    "df.head()"
   ]
  },
  {
   "cell_type": "code",
   "execution_count": null,
   "metadata": {},
   "outputs": [],
   "source": []
  }
 ],
 "metadata": {
  "kernelspec": {
   "display_name": "base",
   "language": "python",
   "name": "python3"
  },
  "language_info": {
   "codemirror_mode": {
    "name": "ipython",
    "version": 3
   },
   "file_extension": ".py",
   "mimetype": "text/x-python",
   "name": "python",
   "nbconvert_exporter": "python",
   "pygments_lexer": "ipython3",
   "version": "3.11.5"
  }
 },
 "nbformat": 4,
 "nbformat_minor": 2
}
