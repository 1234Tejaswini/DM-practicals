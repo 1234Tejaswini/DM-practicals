{
 "cells": [
  {
   "cell_type": "code",
   "execution_count": 1,
   "metadata": {},
   "outputs": [],
   "source": [
    "import numpy as np\n",
    "import pandas as pd\n",
    "import matplotlib.pyplot as plt\n",
    "import seaborn as sns"
   ]
  },
  {
   "cell_type": "code",
   "execution_count": 2,
   "metadata": {},
   "outputs": [],
   "source": [
    "df=pd.read_csv('/home/rohit/Downloads/hing/2011-Q1-cabi-trip-history-data_2011-Q1-cabi-trip-history-data.csv')"
   ]
  },
  {
   "cell_type": "code",
   "execution_count": 3,
   "metadata": {},
   "outputs": [
    {
     "data": {
      "text/html": [
       "<div>\n",
       "<style scoped>\n",
       "    .dataframe tbody tr th:only-of-type {\n",
       "        vertical-align: middle;\n",
       "    }\n",
       "\n",
       "    .dataframe tbody tr th {\n",
       "        vertical-align: top;\n",
       "    }\n",
       "\n",
       "    .dataframe thead th {\n",
       "        text-align: right;\n",
       "    }\n",
       "</style>\n",
       "<table border=\"1\" class=\"dataframe\">\n",
       "  <thead>\n",
       "    <tr style=\"text-align: right;\">\n",
       "      <th></th>\n",
       "      <th>Duration</th>\n",
       "      <th>Start date</th>\n",
       "      <th>End date</th>\n",
       "      <th>Start station</th>\n",
       "      <th>End station</th>\n",
       "      <th>Bike#</th>\n",
       "      <th>Member Type</th>\n",
       "    </tr>\n",
       "  </thead>\n",
       "  <tbody>\n",
       "    <tr>\n",
       "      <th>0</th>\n",
       "      <td>0h 1min. 50sec.</td>\n",
       "      <td>3/31/2011 23:58</td>\n",
       "      <td>4/1/2011 0:00</td>\n",
       "      <td>14th &amp; Harvard St NW (31105)</td>\n",
       "      <td>16th &amp; Harvard St NW (31103)</td>\n",
       "      <td>W00749</td>\n",
       "      <td>Registered</td>\n",
       "    </tr>\n",
       "    <tr>\n",
       "      <th>1</th>\n",
       "      <td>0h 16min. 21sec.</td>\n",
       "      <td>3/31/2011 23:52</td>\n",
       "      <td>4/1/2011 0:08</td>\n",
       "      <td>19th &amp; L St NW (31224)</td>\n",
       "      <td>7th &amp; Water St SW / SW Waterfront (31609)</td>\n",
       "      <td>W01048</td>\n",
       "      <td>Casual</td>\n",
       "    </tr>\n",
       "    <tr>\n",
       "      <th>2</th>\n",
       "      <td>0h 3min. 19sec.</td>\n",
       "      <td>3/31/2011 23:47</td>\n",
       "      <td>3/31/2011 23:50</td>\n",
       "      <td>Lincoln Park / 13th &amp; East Capitol St NE  (31619)</td>\n",
       "      <td>13th &amp; H St NE (31611)</td>\n",
       "      <td>W00340</td>\n",
       "      <td>Registered</td>\n",
       "    </tr>\n",
       "    <tr>\n",
       "      <th>3</th>\n",
       "      <td>0h 5min. 44sec.</td>\n",
       "      <td>3/31/2011 23:45</td>\n",
       "      <td>3/31/2011 23:50</td>\n",
       "      <td>14th &amp; R St NW (31202)</td>\n",
       "      <td>Massachusetts Ave &amp; Dupont Circle NW (31200)</td>\n",
       "      <td>W00981</td>\n",
       "      <td>Registered</td>\n",
       "    </tr>\n",
       "    <tr>\n",
       "      <th>4</th>\n",
       "      <td>0h 8min. 42sec.</td>\n",
       "      <td>3/31/2011 23:34</td>\n",
       "      <td>3/31/2011 23:43</td>\n",
       "      <td>Park Rd &amp; Holmead Pl NW (31602)</td>\n",
       "      <td>15th &amp; P St NW (31201)</td>\n",
       "      <td>W00449</td>\n",
       "      <td>Registered</td>\n",
       "    </tr>\n",
       "  </tbody>\n",
       "</table>\n",
       "</div>"
      ],
      "text/plain": [
       "           Duration       Start date         End date  \\\n",
       "0   0h 1min. 50sec.  3/31/2011 23:58    4/1/2011 0:00   \n",
       "1  0h 16min. 21sec.  3/31/2011 23:52    4/1/2011 0:08   \n",
       "2   0h 3min. 19sec.  3/31/2011 23:47  3/31/2011 23:50   \n",
       "3   0h 5min. 44sec.  3/31/2011 23:45  3/31/2011 23:50   \n",
       "4   0h 8min. 42sec.  3/31/2011 23:34  3/31/2011 23:43   \n",
       "\n",
       "                                       Start station  \\\n",
       "0                       14th & Harvard St NW (31105)   \n",
       "1                             19th & L St NW (31224)   \n",
       "2  Lincoln Park / 13th & East Capitol St NE  (31619)   \n",
       "3                             14th & R St NW (31202)   \n",
       "4                    Park Rd & Holmead Pl NW (31602)   \n",
       "\n",
       "                                    End station   Bike# Member Type  \n",
       "0                  16th & Harvard St NW (31103)  W00749  Registered  \n",
       "1     7th & Water St SW / SW Waterfront (31609)  W01048      Casual  \n",
       "2                        13th & H St NE (31611)  W00340  Registered  \n",
       "3  Massachusetts Ave & Dupont Circle NW (31200)  W00981  Registered  \n",
       "4                        15th & P St NW (31201)  W00449  Registered  "
      ]
     },
     "execution_count": 3,
     "metadata": {},
     "output_type": "execute_result"
    }
   ],
   "source": [
    "df.head()"
   ]
  },
  {
   "cell_type": "code",
   "execution_count": 14,
   "metadata": {},
   "outputs": [],
   "source": [
    "df['Duration'] = df['Duration'].str.replace('min','')\n",
    "df['Duration']=df['Duration'].str.replace('sec','')\n",
    "df['Duration']=df['Duration'].str.replace('h','') \n",
    "df['Duration']=df['Duration'].str.replace(' ','') \n",
    "df['Duration']=df['Duration'].str.replace('.','').astype(float)"
   ]
  },
  {
   "cell_type": "code",
   "execution_count": 15,
   "metadata": {},
   "outputs": [
    {
     "data": {
      "text/plain": [
       "0          150.0\n",
       "1         1621.0\n",
       "2          319.0\n",
       "3          544.0\n",
       "4          842.0\n",
       "           ...  \n",
       "150066     353.0\n",
       "150067     714.0\n",
       "150068     922.0\n",
       "150069     546.0\n",
       "150070     598.0\n",
       "Name: Duration, Length: 150071, dtype: float64"
      ]
     },
     "execution_count": 15,
     "metadata": {},
     "output_type": "execute_result"
    }
   ],
   "source": [
    "df['Duration']"
   ]
  },
  {
   "cell_type": "code",
   "execution_count": 25,
   "metadata": {},
   "outputs": [],
   "source": [
    "address=df['End station'].unique()"
   ]
  },
  {
   "cell_type": "code",
   "execution_count": 26,
   "metadata": {},
   "outputs": [
    {
     "data": {
      "text/plain": [
       "array(['16th & Harvard St NW (31103)',\n",
       "       '7th & Water St SW / SW Waterfront (31609)',\n",
       "       '13th & H St NE (31611)',\n",
       "       'Massachusetts Ave & Dupont Circle NW (31200)',\n",
       "       '15th & P St NW (31201)', 'Adams Mill & Columbia Rd NW (31104)',\n",
       "       '21st & M St NW (31212)', '14th & V St NW (31101)',\n",
       "       '7th & T St NW (31109)', 'Georgia Ave and Fairmont St NW (31207)',\n",
       "       '20th & E St NW (31204)', '14th St & Spring Rd NW (31401)',\n",
       "       '14th & Rhode Island Ave NW (31203)',\n",
       "       '17th & Corcoran St NW (31214)',\n",
       "       '25th St & Pennsylvania Ave NW (31237)',\n",
       "       '10th & Monroe St NE (31504)',\n",
       "       'C & O Canal & Wisconsin Ave NW (31225)', '18th & M St NW (31221)',\n",
       "       '11th & Kenyon St NW (31102)', '3rd & H St NE (31616)',\n",
       "       'Park Rd & Holmead Pl NW (31602)',\n",
       "       'Calvert St & Woodley Pl NW (31106)',\n",
       "       'Georgia & New Hampshire Ave NW (31400)', '10th & U St NW (31111)',\n",
       "       'Potomac & Pennsylvania Ave SE (31606)',\n",
       "       'Columbus Circle / Union Station (31623)',\n",
       "       'Florida Ave & R St NW (31503)', '14th & D St SE (31607)',\n",
       "       'McPherson Square - 14th & H St NW (31216)',\n",
       "       'Lincoln Park / 13th & East Capitol St NE  (31619)',\n",
       "       '13th & D St NE (31622)', '21st & I St NW (31205)',\n",
       "       '16th & U St NW (31229)', '12th & Army Navy Dr (31008)',\n",
       "       '14th & R St NW (31202)', '5th St & K St NW (31600)',\n",
       "       '19th St & Pennsylvania Ave NW (31100)',\n",
       "       'Wisconsin Ave & Macomb St NW (31302)',\n",
       "       '4th & East Capitol St NE (31618)', '3rd & D St SE (31605)',\n",
       "       'Van Ness Metro / UDC (31300)',\n",
       "       'Tenleytown / Wisconsin Ave & Albemarle St NW (31303)',\n",
       "       '1st & M St NE (31603)',\n",
       "       '36th & Calvert St NW / Glover Park (31304)',\n",
       "       'S Glebe & Potomac Ave (31010)', '8th & H St NW (31228)',\n",
       "       'New York Ave & 15th St NW (31222)',\n",
       "       '13th St & New York Ave NW (31227)',\n",
       "       'Lamont & Mt Pleasant NW (31107)',\n",
       "       'Eckington Pl & Q St NE (31505)',\n",
       "       '4th St & Massachusetts Ave NW (31604)',\n",
       "       'Eastern Market / 7th & North Carolina Ave SE (31610)',\n",
       "       'Convention Center / 7th & M St NW (31223)',\n",
       "       'M St & New Jersey Ave SE (31208)', 'Kennedy Center (31211)',\n",
       "       '14th & Harvard St NW (31105)',\n",
       "       'Connecticut Ave & Newark St NW / Cleveland Park (31305)',\n",
       "       '17th & K St NW [formerly 17th & L St NW] (31213)',\n",
       "       '14th & G St NW (31238)', '4th & M St SW (31108)',\n",
       "       'Eastern Market Metro / Pennsylvania Ave & 7th St SE (31613)',\n",
       "       \"L'Enfant Plaza / 7th & C St SW (31218)\", '19th & L St NW (31224)',\n",
       "       '20th St & Florida Ave NW (31110)',\n",
       "       'Harvard St & Adams Mill Rd NW (31112)',\n",
       "       'Ward Circle / American University (31301)',\n",
       "       '19th St & Constitution Ave NW (31235)',\n",
       "       'Bladensburg Rd & Benning Rd NE (31617)', '5th & F St NW (31620)',\n",
       "       '27th & Crystal Dr (31009)', '18th & Hayes St (31004)',\n",
       "       'North Capitol St & F St NW (31624)',\n",
       "       'Good Hope & Naylor Rd SE (31700)', '15th & Crystal Dr (31003)',\n",
       "       '34th St & Wisconsin Ave NW (31226)',\n",
       "       '37th & O St NW / Georgetown University (31236)',\n",
       "       '20th & Crystal Dr (31002)', '18th & Bell St (31007)',\n",
       "       '23rd & Crystal Dr (31011)',\n",
       "       'USDA / 12th & Independence Ave SW (31217)',\n",
       "       'US Dept of State / Virginia Ave & 21st St NW (31220)',\n",
       "       '12th & Newton St NE (31501)', 'S Joyce & Army Navy Dr (31006)',\n",
       "       '12th & Hayes St (31001)',\n",
       "       'John McCormack Dr & Michigan Ave NE (31502)',\n",
       "       '10th St & Constitution Ave NW (31219)',\n",
       "       'Georgetown Harbor / 30th St NW (31215)',\n",
       "       '19th & East Capitol St SE (31601)', '1st & N ST SE (31209)',\n",
       "       '19th & E Street NW (31206)',\n",
       "       'Pennsylvania & Minnesota Ave SE (31805)',\n",
       "       'Anacostia Library (31804)',\n",
       "       '8th & Eye St SE / Barracks Row (31608)', '23rd & Eads (31013)',\n",
       "       '26th & Crystal Dr (31012)', 'Anacostia Metro (31801)',\n",
       "       '15th & Hayes St (31005)', '4th & Adams St NE (31500)',\n",
       "       '20th & Bell St (31000)',\n",
       "       '14th St Heights / 14th & Crittenden St NW (31402)', nan,\n",
       "       'Minnesota Ave Metro/DOES (31703)',\n",
       "       'Randle Circle & Minnesota Ave NE (31702)',\n",
       "       'Good Hope Rd & MLK Ave SE (31802)',\n",
       "       'Benning Branch Library (31705)',\n",
       "       'Nannie Helen Burroughs & Minnesota Ave NE (31704)',\n",
       "       'Alta Bicycle Share Demonstration Station (31999)'], dtype=object)"
      ]
     },
     "execution_count": 26,
     "metadata": {},
     "output_type": "execute_result"
    }
   ],
   "source": [
    "address"
   ]
  },
  {
   "cell_type": "code",
   "execution_count": 27,
   "metadata": {},
   "outputs": [],
   "source": [
    "df=df.dropna()"
   ]
  },
  {
   "cell_type": "code",
   "execution_count": 31,
   "metadata": {},
   "outputs": [
    {
     "name": "stderr",
     "output_type": "stream",
     "text": [
      "/tmp/ipykernel_8304/3798493523.py:3: SettingWithCopyWarning: \n",
      "A value is trying to be set on a copy of a slice from a DataFrame.\n",
      "Try using .loc[row_indexer,col_indexer] = value instead\n",
      "\n",
      "See the caveats in the documentation: https://pandas.pydata.org/pandas-docs/stable/user_guide/indexing.html#returning-a-view-versus-a-copy\n",
      "  df['Start station']=le.fit_transform(df['Start station'])\n",
      "/tmp/ipykernel_8304/3798493523.py:4: SettingWithCopyWarning: \n",
      "A value is trying to be set on a copy of a slice from a DataFrame.\n",
      "Try using .loc[row_indexer,col_indexer] = value instead\n",
      "\n",
      "See the caveats in the documentation: https://pandas.pydata.org/pandas-docs/stable/user_guide/indexing.html#returning-a-view-versus-a-copy\n",
      "  df['End station']=le.fit_transform(df['End station'])\n",
      "/tmp/ipykernel_8304/3798493523.py:5: SettingWithCopyWarning: \n",
      "A value is trying to be set on a copy of a slice from a DataFrame.\n",
      "Try using .loc[row_indexer,col_indexer] = value instead\n",
      "\n",
      "See the caveats in the documentation: https://pandas.pydata.org/pandas-docs/stable/user_guide/indexing.html#returning-a-view-versus-a-copy\n",
      "  df['Bike#']=le.fit_transform(df['Bike#'])\n"
     ]
    }
   ],
   "source": [
    "from sklearn.preprocessing import LabelEncoder\n",
    "le=LabelEncoder()\n",
    "df['Start station']=le.fit_transform(df['Start station'])\n",
    "df['End station']=le.fit_transform(df['End station'])\n",
    "df['Bike#']=le.fit_transform(df['Bike#'])\n"
   ]
  },
  {
   "cell_type": "code",
   "execution_count": 32,
   "metadata": {},
   "outputs": [
    {
     "data": {
      "text/html": [
       "<div>\n",
       "<style scoped>\n",
       "    .dataframe tbody tr th:only-of-type {\n",
       "        vertical-align: middle;\n",
       "    }\n",
       "\n",
       "    .dataframe tbody tr th {\n",
       "        vertical-align: top;\n",
       "    }\n",
       "\n",
       "    .dataframe thead th {\n",
       "        text-align: right;\n",
       "    }\n",
       "</style>\n",
       "<table border=\"1\" class=\"dataframe\">\n",
       "  <thead>\n",
       "    <tr style=\"text-align: right;\">\n",
       "      <th></th>\n",
       "      <th>Duration</th>\n",
       "      <th>Start date</th>\n",
       "      <th>End date</th>\n",
       "      <th>Start station</th>\n",
       "      <th>End station</th>\n",
       "      <th>Bike#</th>\n",
       "      <th>Member Type</th>\n",
       "    </tr>\n",
       "  </thead>\n",
       "  <tbody>\n",
       "    <tr>\n",
       "      <th>0</th>\n",
       "      <td>150.0</td>\n",
       "      <td>2011-03-31 23:58:00</td>\n",
       "      <td>4/1/2011 0:00</td>\n",
       "      <td>12</td>\n",
       "      <td>21</td>\n",
       "      <td>624</td>\n",
       "      <td>Registered</td>\n",
       "    </tr>\n",
       "    <tr>\n",
       "      <th>1</th>\n",
       "      <td>1621.0</td>\n",
       "      <td>2011-03-31 23:52:00</td>\n",
       "      <td>4/1/2011 0:08</td>\n",
       "      <td>30</td>\n",
       "      <td>58</td>\n",
       "      <td>890</td>\n",
       "      <td>Casual</td>\n",
       "    </tr>\n",
       "    <tr>\n",
       "      <th>2</th>\n",
       "      <td>319.0</td>\n",
       "      <td>2011-03-31 23:47:00</td>\n",
       "      <td>3/31/2011 23:50</td>\n",
       "      <td>86</td>\n",
       "      <td>8</td>\n",
       "      <td>275</td>\n",
       "      <td>Registered</td>\n",
       "    </tr>\n",
       "    <tr>\n",
       "      <th>3</th>\n",
       "      <td>544.0</td>\n",
       "      <td>2011-03-31 23:45:00</td>\n",
       "      <td>3/31/2011 23:50</td>\n",
       "      <td>13</td>\n",
       "      <td>88</td>\n",
       "      <td>831</td>\n",
       "      <td>Registered</td>\n",
       "    </tr>\n",
       "    <tr>\n",
       "      <th>4</th>\n",
       "      <td>842.0</td>\n",
       "      <td>2011-03-31 23:34:00</td>\n",
       "      <td>3/31/2011 23:43</td>\n",
       "      <td>94</td>\n",
       "      <td>20</td>\n",
       "      <td>367</td>\n",
       "      <td>Registered</td>\n",
       "    </tr>\n",
       "  </tbody>\n",
       "</table>\n",
       "</div>"
      ],
      "text/plain": [
       "   Duration          Start date         End date  Start station  End station  \\\n",
       "0     150.0 2011-03-31 23:58:00    4/1/2011 0:00             12           21   \n",
       "1    1621.0 2011-03-31 23:52:00    4/1/2011 0:08             30           58   \n",
       "2     319.0 2011-03-31 23:47:00  3/31/2011 23:50             86            8   \n",
       "3     544.0 2011-03-31 23:45:00  3/31/2011 23:50             13           88   \n",
       "4     842.0 2011-03-31 23:34:00  3/31/2011 23:43             94           20   \n",
       "\n",
       "   Bike# Member Type  \n",
       "0    624  Registered  \n",
       "1    890      Casual  \n",
       "2    275  Registered  \n",
       "3    831  Registered  \n",
       "4    367  Registered  "
      ]
     },
     "execution_count": 32,
     "metadata": {},
     "output_type": "execute_result"
    }
   ],
   "source": [
    "df.head()"
   ]
  },
  {
   "cell_type": "code",
   "execution_count": 36,
   "metadata": {},
   "outputs": [],
   "source": [
    "x=df.iloc[:,[0,3,4,5]]\n",
    "y=df.iloc[:,-1]"
   ]
  },
  {
   "cell_type": "code",
   "execution_count": 38,
   "metadata": {},
   "outputs": [],
   "source": [
    "from sklearn.model_selection import train_test_split\n",
    "x_train,x_test,y_train,y_test=train_test_split(x,y,test_size=0.2,random_state=0)"
   ]
  },
  {
   "cell_type": "code",
   "execution_count": 41,
   "metadata": {},
   "outputs": [
    {
     "data": {
      "text/html": [
       "<style>#sk-container-id-1 {color: black;}#sk-container-id-1 pre{padding: 0;}#sk-container-id-1 div.sk-toggleable {background-color: white;}#sk-container-id-1 label.sk-toggleable__label {cursor: pointer;display: block;width: 100%;margin-bottom: 0;padding: 0.3em;box-sizing: border-box;text-align: center;}#sk-container-id-1 label.sk-toggleable__label-arrow:before {content: \"▸\";float: left;margin-right: 0.25em;color: #696969;}#sk-container-id-1 label.sk-toggleable__label-arrow:hover:before {color: black;}#sk-container-id-1 div.sk-estimator:hover label.sk-toggleable__label-arrow:before {color: black;}#sk-container-id-1 div.sk-toggleable__content {max-height: 0;max-width: 0;overflow: hidden;text-align: left;background-color: #f0f8ff;}#sk-container-id-1 div.sk-toggleable__content pre {margin: 0.2em;color: black;border-radius: 0.25em;background-color: #f0f8ff;}#sk-container-id-1 input.sk-toggleable__control:checked~div.sk-toggleable__content {max-height: 200px;max-width: 100%;overflow: auto;}#sk-container-id-1 input.sk-toggleable__control:checked~label.sk-toggleable__label-arrow:before {content: \"▾\";}#sk-container-id-1 div.sk-estimator input.sk-toggleable__control:checked~label.sk-toggleable__label {background-color: #d4ebff;}#sk-container-id-1 div.sk-label input.sk-toggleable__control:checked~label.sk-toggleable__label {background-color: #d4ebff;}#sk-container-id-1 input.sk-hidden--visually {border: 0;clip: rect(1px 1px 1px 1px);clip: rect(1px, 1px, 1px, 1px);height: 1px;margin: -1px;overflow: hidden;padding: 0;position: absolute;width: 1px;}#sk-container-id-1 div.sk-estimator {font-family: monospace;background-color: #f0f8ff;border: 1px dotted black;border-radius: 0.25em;box-sizing: border-box;margin-bottom: 0.5em;}#sk-container-id-1 div.sk-estimator:hover {background-color: #d4ebff;}#sk-container-id-1 div.sk-parallel-item::after {content: \"\";width: 100%;border-bottom: 1px solid gray;flex-grow: 1;}#sk-container-id-1 div.sk-label:hover label.sk-toggleable__label {background-color: #d4ebff;}#sk-container-id-1 div.sk-serial::before {content: \"\";position: absolute;border-left: 1px solid gray;box-sizing: border-box;top: 0;bottom: 0;left: 50%;z-index: 0;}#sk-container-id-1 div.sk-serial {display: flex;flex-direction: column;align-items: center;background-color: white;padding-right: 0.2em;padding-left: 0.2em;position: relative;}#sk-container-id-1 div.sk-item {position: relative;z-index: 1;}#sk-container-id-1 div.sk-parallel {display: flex;align-items: stretch;justify-content: center;background-color: white;position: relative;}#sk-container-id-1 div.sk-item::before, #sk-container-id-1 div.sk-parallel-item::before {content: \"\";position: absolute;border-left: 1px solid gray;box-sizing: border-box;top: 0;bottom: 0;left: 50%;z-index: -1;}#sk-container-id-1 div.sk-parallel-item {display: flex;flex-direction: column;z-index: 1;position: relative;background-color: white;}#sk-container-id-1 div.sk-parallel-item:first-child::after {align-self: flex-end;width: 50%;}#sk-container-id-1 div.sk-parallel-item:last-child::after {align-self: flex-start;width: 50%;}#sk-container-id-1 div.sk-parallel-item:only-child::after {width: 0;}#sk-container-id-1 div.sk-dashed-wrapped {border: 1px dashed gray;margin: 0 0.4em 0.5em 0.4em;box-sizing: border-box;padding-bottom: 0.4em;background-color: white;}#sk-container-id-1 div.sk-label label {font-family: monospace;font-weight: bold;display: inline-block;line-height: 1.2em;}#sk-container-id-1 div.sk-label-container {text-align: center;}#sk-container-id-1 div.sk-container {/* jupyter's `normalize.less` sets `[hidden] { display: none; }` but bootstrap.min.css set `[hidden] { display: none !important; }` so we also need the `!important` here to be able to override the default hidden behavior on the sphinx rendered scikit-learn.org. See: https://github.com/scikit-learn/scikit-learn/issues/21755 */display: inline-block !important;position: relative;}#sk-container-id-1 div.sk-text-repr-fallback {display: none;}</style><div id=\"sk-container-id-1\" class=\"sk-top-container\"><div class=\"sk-text-repr-fallback\"><pre>DecisionTreeClassifier(max_leaf_nodes=3, random_state=0)</pre><b>In a Jupyter environment, please rerun this cell to show the HTML representation or trust the notebook. <br />On GitHub, the HTML representation is unable to render, please try loading this page with nbviewer.org.</b></div><div class=\"sk-container\" hidden><div class=\"sk-item\"><div class=\"sk-estimator sk-toggleable\"><input class=\"sk-toggleable__control sk-hidden--visually\" id=\"sk-estimator-id-1\" type=\"checkbox\" checked><label for=\"sk-estimator-id-1\" class=\"sk-toggleable__label sk-toggleable__label-arrow\">DecisionTreeClassifier</label><div class=\"sk-toggleable__content\"><pre>DecisionTreeClassifier(max_leaf_nodes=3, random_state=0)</pre></div></div></div></div></div>"
      ],
      "text/plain": [
       "DecisionTreeClassifier(max_leaf_nodes=3, random_state=0)"
      ]
     },
     "execution_count": 41,
     "metadata": {},
     "output_type": "execute_result"
    }
   ],
   "source": [
    "from sklearn.tree import DecisionTreeClassifier\n",
    "dt=DecisionTreeClassifier(max_leaf_nodes=3,random_state=0)\n",
    "dt.fit(x_train,y_train)\n"
   ]
  },
  {
   "cell_type": "code",
   "execution_count": 42,
   "metadata": {},
   "outputs": [],
   "source": [
    "y_predcit=dt.predict(x_test)"
   ]
  },
  {
   "cell_type": "code",
   "execution_count": 46,
   "metadata": {},
   "outputs": [],
   "source": [
    "from sklearn.metrics import accuracy_score,classification_report\n",
    "ac=accuracy_score(y_test,y_predcit)\n",
    "cm=classification_report(y_test,y_predcit)"
   ]
  },
  {
   "cell_type": "code",
   "execution_count": 55,
   "metadata": {},
   "outputs": [
    {
     "name": "stdout",
     "output_type": "stream",
     "text": [
      "88.41\n"
     ]
    }
   ],
   "source": [
    "print(\"{:.2f}\".format(ac*100))"
   ]
  },
  {
   "cell_type": "code",
   "execution_count": 48,
   "metadata": {},
   "outputs": [
    {
     "name": "stdout",
     "output_type": "stream",
     "text": [
      "              precision    recall  f1-score   support\n",
      "\n",
      "      Casual       0.77      0.29      0.42      4364\n",
      "  Registered       0.89      0.99      0.94     25648\n",
      "\n",
      "    accuracy                           0.88     30012\n",
      "   macro avg       0.83      0.64      0.68     30012\n",
      "weighted avg       0.87      0.88      0.86     30012\n",
      "\n"
     ]
    }
   ],
   "source": [
    "print(cm)"
   ]
  },
  {
   "cell_type": "code",
   "execution_count": null,
   "metadata": {},
   "outputs": [],
   "source": []
  },
  {
   "cell_type": "code",
   "execution_count": null,
   "metadata": {},
   "outputs": [],
   "source": []
  }
 ],
 "metadata": {
  "kernelspec": {
   "display_name": "base",
   "language": "python",
   "name": "python3"
  },
  "language_info": {
   "codemirror_mode": {
    "name": "ipython",
    "version": 3
   },
   "file_extension": ".py",
   "mimetype": "text/x-python",
   "name": "python",
   "nbconvert_exporter": "python",
   "pygments_lexer": "ipython3",
   "version": "3.11.5"
  }
 },
 "nbformat": 4,
 "nbformat_minor": 2
}
